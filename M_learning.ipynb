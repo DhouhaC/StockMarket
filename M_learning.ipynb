{
 "cells": [
  {
   "cell_type": "code",
   "execution_count": 1,
   "metadata": {},
   "outputs": [],
   "source": [
    "import torch\n",
    "\n",
    "######################################\n",
    "#### Networks imports ################\n",
    "import torch.nn as nn\n",
    "import torch.nn.functional as F\n",
    "\n",
    "#####################################\n",
    "######### Optimizer #################\n",
    "import torch.optim as optim\n",
    "\n",
    "#############Dataset#########################\n",
    "from torch.utils.data import Dataset, DataLoader"
   ]
  },
  {
   "cell_type": "code",
   "execution_count": 2,
   "metadata": {},
   "outputs": [],
   "source": [
    "if torch.cuda.is_available():\n",
    "    device = torch.device(\"cuda\")  "
   ]
  },
  {
   "cell_type": "code",
   "execution_count": 3,
   "metadata": {},
   "outputs": [],
   "source": [
    "from dask.distributed import Client, LocalCluster\n",
    "cluster = LocalCluster()"
   ]
  },
  {
   "cell_type": "code",
   "execution_count": 4,
   "metadata": {},
   "outputs": [],
   "source": [
    "client = Client(cluster)"
   ]
  },
  {
   "cell_type": "code",
   "execution_count": 43,
   "metadata": {},
   "outputs": [],
   "source": [
    "from torch.utils.data import Dataset, DataLoader\n",
    "from glob import glob\n",
    "import os\n",
    "import dask.array as da\n",
    "import numpy as np\n",
    "\n",
    "class StockDataset(Dataset):\n",
    "\n",
    "    def __init__(self, datasetFolder, transforms=None):\n",
    "        self.datasetFolder = datasetFolder\n",
    "        self.data = self.get_data(datasetFolder)\n",
    "        self.target = self.get_target(datasetFolder)\n",
    "        self.length = len(self.target)\n",
    "        self.transforms = transforms\n",
    "    \n",
    "    def get_data(self, datasetFolder):\n",
    "        dsets = [da.from_array(np.load(fname)) for fname in glob(os.path.join('data', 'NPY', '*-data.npy'))]\n",
    "        data = da.concatenate(dsets, axis=0)\n",
    "        return data\n",
    "    \n",
    "    def get_target(self, datasetFolder):\n",
    "        dsets = [da.from_array(np.load(fname)) for fname in glob(os.path.join('data', 'NPY', '*-target.npy'))]\n",
    "        target = da.concatenate(dsets, axis=0)\n",
    "        return target\n",
    "    \n",
    "    \n",
    "    def __getitem__(self, index):\n",
    "        # get data and label\n",
    "        data = self.data[index].compute()\n",
    "        target = self.target[index].compute()\n",
    "\n",
    "        if self.transforms is not None:\n",
    "\n",
    "            data = self.transforms(data)\n",
    "            \n",
    "        data = torch.unsqueeze(torch.from_numpy(data), dim=0)\n",
    "        target = torch.from_numpy(target)   \n",
    "        return data, target\n",
    "    \n",
    "    def __len__(self):\n",
    "        return self.length"
   ]
  },
  {
   "cell_type": "code",
   "execution_count": null,
   "metadata": {},
   "outputs": [],
   "source": [
    "class Net(nn.Module):\n",
    "\n",
    "    def __init__(self):\n",
    "        ########### define layers ################\n",
    "\n",
    "    def forward(self, x):\n",
    "        ####### Calculate output from input ##########\n",
    "        return x\n"
   ]
  },
  {
   "cell_type": "code",
   "execution_count": null,
   "metadata": {},
   "outputs": [],
   "source": [
    "####Loading data\n",
    "batch_size = 1\n",
    "epoch_num = 10\n",
    "stock_dataset = StockDataset(datasetFolder, transforms=transforms)\n",
    "stock_loader = DataLoader(stock_dataset, batch_size=batch_size, shuffle=True)\n",
    "net = Net()\n",
    "###Optimizer\n",
    "optimizer = optim.SGD(net.parameters(), lr=0.001, momentum=0.9)\n",
    "###Criterion\n",
    "criterion = nn.MSELoss()\n",
    "\n",
    "for epoch in range(epoch_num):\n",
    "    # in your training loop:\n",
    "    running_loss = 0.0\n",
    "    for i, data in enumerate(stock_loader, 0):\n",
    "    \n",
    "    # get the inputs; data is a list of [inputs, labels]*******depends on dataloader definition*****\n",
    "    inputs, targets = data\n",
    "    optimizer.zero_grad()   # zero the gradient buffers\n",
    "    \n",
    "    # forward + backward + optimize\n",
    "    output = net(inputs)\n",
    "    loss = criterion(output, targets)\n",
    "    loss.backward()\n",
    "    optimizer.step()    # Does the update\n",
    "    \n",
    "    # print statistics\n",
    "    running_loss += loss.item()\n",
    "    if i % 2000 == 1999:    # print every 2000 mini-batches\n",
    "        print('[%d, %5d] loss: %.3f' %\n",
    "              (epoch + 1, i + 1, running_loss / 2000))\n",
    "        running_loss = 0.0"
   ]
  }
 ],
 "metadata": {
  "kernelspec": {
   "display_name": "Python 3",
   "language": "python",
   "name": "python3"
  },
  "language_info": {
   "codemirror_mode": {
    "name": "ipython",
    "version": 3
   },
   "file_extension": ".py",
   "mimetype": "text/x-python",
   "name": "python",
   "nbconvert_exporter": "python",
   "pygments_lexer": "ipython3",
   "version": "3.7.4"
  }
 },
 "nbformat": 4,
 "nbformat_minor": 2
}
